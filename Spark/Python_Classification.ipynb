{
 "cells": [
  {
   "cell_type": "markdown",
   "metadata": {},
   "source": [
    "## Creating a Classification Model\n",
    "\n",
    "In this exercise, you will implement a classification model that predicts if a student will score higher than or lower than the median score\n",
    "\n",
    "### Import Spark SQL and Spark ML Libraries\n",
    "\n",
    "First, import the libraries you will need:"
   ]
  },
  {
   "cell_type": "code",
   "execution_count": 1,
   "metadata": {
    "collapsed": false
   },
   "outputs": [
    {
     "name": "stdout",
     "output_type": "stream",
     "text": [
      "Starting Spark application\n"
     ]
    },
    {
     "data": {
      "text/html": [
       "<table>\n",
       "<tr><th>ID</th><th>YARN Application ID</th><th>Kind</th><th>State</th><th>Spark UI</th><th>Driver log</th><th>Current session?</th></tr><tr><td>0</td><td>application_1485057189851_0005</td><td>pyspark</td><td>idle</td><td><a target=\"_blank\" href=\"http://hn1-spkcw1.mwujtyho1nyuhl0cpamnq1osbc.bx.internal.cloudapp.net:8088/proxy/application_1485057189851_0005/\">Link</a></td><td><a target=\"_blank\" href=\"http://10.0.0.11:30060/node/containerlogs/container_1485057189851_0005_01_000001/livy\">Link</a></td><td>✔</td></tr></table>"
      ],
      "text/plain": [
       "<IPython.core.display.HTML object>"
      ]
     },
     "metadata": {},
     "output_type": "display_data"
    },
    {
     "name": "stdout",
     "output_type": "stream",
     "text": [
      "SparkSession available as 'spark'.\n"
     ]
    }
   ],
   "source": [
    "from pyspark.sql import SparkSession\n",
    "spark = SparkSession.builder.master(\"yarn\").appName(\"GLIM_PGPBABI\").enableHiveSupport().getOrCreate()"
   ]
  },
  {
   "cell_type": "code",
   "execution_count": 61,
   "metadata": {
    "collapsed": true
   },
   "outputs": [],
   "source": [
    "from pyspark.sql.types import *\n",
    "\n",
    "from pyspark.sql.functions import *\n",
    "\n",
    "from pyspark.ml.classification import LogisticRegression\n",
    "from pyspark.ml.feature import VectorAssembler\n",
    "\n",
    "from __future__ import division"
   ]
  },
  {
   "cell_type": "markdown",
   "metadata": {},
   "source": [
    "### Load Source Data\n",
    "We will load the studentmaster Hive table into a Saprk Dataframe"
   ]
  },
  {
   "cell_type": "code",
   "execution_count": 40,
   "metadata": {
    "collapsed": false,
    "scrolled": false
   },
   "outputs": [],
   "source": [
    "student_df = spark.sql(\"SELECT * FROM studentmaster\")"
   ]
  },
  {
   "cell_type": "code",
   "execution_count": 41,
   "metadata": {
    "collapsed": false
   },
   "outputs": [
    {
     "name": "stdout",
     "output_type": "stream",
     "text": [
      "root\n",
      " |-- studentid: integer (nullable = true)\n",
      " |-- school: integer (nullable = true)\n",
      " |-- sex: integer (nullable = true)\n",
      " |-- age: integer (nullable = true)\n",
      " |-- addresstype: integer (nullable = true)\n",
      " |-- famsize: integer (nullable = true)\n",
      " |-- pstatus: integer (nullable = true)\n",
      " |-- medu: integer (nullable = true)\n",
      " |-- fedu: integer (nullable = true)\n",
      " |-- mjob: integer (nullable = true)\n",
      " |-- fjob: integer (nullable = true)\n",
      " |-- reason: integer (nullable = true)\n",
      " |-- guardian: integer (nullable = true)\n",
      " |-- traveltime: integer (nullable = true)\n",
      " |-- studytime: integer (nullable = true)\n",
      " |-- failures: integer (nullable = true)\n",
      " |-- schoolsup: integer (nullable = true)\n",
      " |-- famsup: integer (nullable = true)\n",
      " |-- paid: integer (nullable = true)\n",
      " |-- activities: integer (nullable = true)\n",
      " |-- nursery: integer (nullable = true)\n",
      " |-- higher: integer (nullable = true)\n",
      " |-- internet: integer (nullable = true)\n",
      " |-- romantic: integer (nullable = true)\n",
      " |-- famrel: integer (nullable = true)\n",
      " |-- freetime: integer (nullable = true)\n",
      " |-- goout: integer (nullable = true)\n",
      " |-- dalc: integer (nullable = true)\n",
      " |-- walc: integer (nullable = true)\n",
      " |-- health: integer (nullable = true)\n",
      " |-- absences: integer (nullable = true)\n",
      " |-- g1: integer (nullable = true)\n",
      " |-- g2: integer (nullable = true)\n",
      " |-- g3: integer (nullable = true)\n",
      " |-- smoteclass: integer (nullable = true)"
     ]
    }
   ],
   "source": [
    "student_df.printSchema()"
   ]
  },
  {
   "cell_type": "markdown",
   "metadata": {},
   "source": [
    "### Prepare the Data\n",
    "Most modeling begins with exhaustive exploration and preparation of the data. In this example, the data has been cleaned for you. You will select all the columns to use as *features* and create a Boolean *label* field named **BelowMedian** with the value **1** for students scoring less than the median, or **0** if they score greater than or equal to the median score.\n",
    "\n",
    "(Note that in a real scenario, you would perform additional tasks such as handling missing or duplicated data, scaling numeric columns, and using a process called *feature engineering* to create new features for your model)."
   ]
  },
  {
   "cell_type": "code",
   "execution_count": 42,
   "metadata": {
    "collapsed": false
   },
   "outputs": [],
   "source": [
    "medianScore = student_df.approxQuantile(\"g3\", [0.5], 0.25)[0]"
   ]
  },
  {
   "cell_type": "code",
   "execution_count": 43,
   "metadata": {
    "collapsed": false
   },
   "outputs": [
    {
     "name": "stdout",
     "output_type": "stream",
     "text": [
      "The median final score is 10.00"
     ]
    }
   ],
   "source": [
    "print \"The median final score is %.2f\" %medianScore"
   ]
  },
  {
   "cell_type": "code",
   "execution_count": 44,
   "metadata": {
    "collapsed": false
   },
   "outputs": [],
   "source": [
    "#we no longer require with the smoteclass column\n",
    "data = student_df.drop('smoteclass').withColumn(\"BelowMedian\", (col('g3') < medianScore).cast(\"Int\"))"
   ]
  },
  {
   "cell_type": "code",
   "execution_count": 45,
   "metadata": {
    "collapsed": false
   },
   "outputs": [
    {
     "name": "stdout",
     "output_type": "stream",
     "text": [
      "+-------+------------------+-------------------+\n",
      "|summary|                g3|        BelowMedian|\n",
      "+-------+------------------+-------------------+\n",
      "|  count|              2320|               2320|\n",
      "|   mean|11.306034482758621|0.21379310344827587|\n",
      "| stddev|3.1378227577428275|0.41007084059151344|\n",
      "|    min|                 0|                  0|\n",
      "|    max|                19|                  1|\n",
      "+-------+------------------+-------------------+"
     ]
    }
   ],
   "source": [
    "#let's check the summary stats for the continuous and categorical target variables\n",
    "data.select('g3','BelowMedian').describe().show()"
   ]
  },
  {
   "cell_type": "code",
   "execution_count": 46,
   "metadata": {
    "collapsed": false
   },
   "outputs": [],
   "source": [
    "#as this is a classification problem we will go ahead and drop the g3 column as well\n",
    "data = data.drop('g3')"
   ]
  },
  {
   "cell_type": "code",
   "execution_count": 47,
   "metadata": {
    "collapsed": false
   },
   "outputs": [
    {
     "name": "stdout",
     "output_type": "stream",
     "text": [
      "2320"
     ]
    }
   ],
   "source": [
    "data.count()"
   ]
  },
  {
   "cell_type": "code",
   "execution_count": 48,
   "metadata": {
    "collapsed": false
   },
   "outputs": [
    {
     "name": "stdout",
     "output_type": "stream",
     "text": [
      "root\n",
      " |-- studentid: integer (nullable = true)\n",
      " |-- school: integer (nullable = true)\n",
      " |-- sex: integer (nullable = true)\n",
      " |-- age: integer (nullable = true)\n",
      " |-- addresstype: integer (nullable = true)\n",
      " |-- famsize: integer (nullable = true)\n",
      " |-- pstatus: integer (nullable = true)\n",
      " |-- medu: integer (nullable = true)\n",
      " |-- fedu: integer (nullable = true)\n",
      " |-- mjob: integer (nullable = true)\n",
      " |-- fjob: integer (nullable = true)\n",
      " |-- reason: integer (nullable = true)\n",
      " |-- guardian: integer (nullable = true)\n",
      " |-- traveltime: integer (nullable = true)\n",
      " |-- studytime: integer (nullable = true)\n",
      " |-- failures: integer (nullable = true)\n",
      " |-- schoolsup: integer (nullable = true)\n",
      " |-- famsup: integer (nullable = true)\n",
      " |-- paid: integer (nullable = true)\n",
      " |-- activities: integer (nullable = true)\n",
      " |-- nursery: integer (nullable = true)\n",
      " |-- higher: integer (nullable = true)\n",
      " |-- internet: integer (nullable = true)\n",
      " |-- romantic: integer (nullable = true)\n",
      " |-- famrel: integer (nullable = true)\n",
      " |-- freetime: integer (nullable = true)\n",
      " |-- goout: integer (nullable = true)\n",
      " |-- dalc: integer (nullable = true)\n",
      " |-- walc: integer (nullable = true)\n",
      " |-- health: integer (nullable = true)\n",
      " |-- absences: integer (nullable = true)\n",
      " |-- g1: integer (nullable = true)\n",
      " |-- g2: integer (nullable = true)\n",
      " |-- BelowMedian: integer (nullable = true)"
     ]
    }
   ],
   "source": [
    "data.printSchema()"
   ]
  },
  {
   "cell_type": "markdown",
   "metadata": {},
   "source": [
    "### Split the Data\n",
    "It is common practice when building supervised machine learning models to split the source data, using some of it to train the model and reserving some to test the trained model. In this exercise, you will use 70% of the data for training, and reserve 30% for testing."
   ]
  },
  {
   "cell_type": "code",
   "execution_count": 49,
   "metadata": {
    "collapsed": false
   },
   "outputs": [
    {
     "name": "stdout",
     "output_type": "stream",
     "text": [
      "Training Rows: 1831  Testing Rows: 489"
     ]
    }
   ],
   "source": [
    "splits = data.randomSplit([0.8, 0.2])\n",
    "train = splits[0]\n",
    "test = splits[1]\n",
    "train_rows = train.count()\n",
    "test_rows = test.count()\n",
    "print \"Training Rows:\", train_rows, \" Testing Rows:\", test_rows"
   ]
  },
  {
   "cell_type": "markdown",
   "metadata": {
    "collapsed": false
   },
   "source": [
    "### Prepare the Training Data\n",
    "To train the classification model, you need a training data set that includes a vector of numeric features, and a label column. In this exercise, you will use the **VectorAssembler** class to transform the feature columns into a vector, and then rename the **Late** column to **label**."
   ]
  },
  {
   "cell_type": "code",
   "execution_count": 50,
   "metadata": {
    "collapsed": false
   },
   "outputs": [],
   "source": [
    "inputs = train.columns"
   ]
  },
  {
   "cell_type": "code",
   "execution_count": 51,
   "metadata": {
    "collapsed": false
   },
   "outputs": [],
   "source": [
    "inputs.remove('BelowMedian')"
   ]
  },
  {
   "cell_type": "code",
   "execution_count": 52,
   "metadata": {
    "collapsed": false
   },
   "outputs": [
    {
     "name": "stdout",
     "output_type": "stream",
     "text": [
      "['studentid', 'school', 'sex', 'age', 'addresstype', 'famsize', 'pstatus', 'medu', 'fedu', 'mjob', 'fjob', 'reason', 'guardian', 'traveltime', 'studytime', 'failures', 'schoolsup', 'famsup', 'paid', 'activities', 'nursery', 'higher', 'internet', 'romantic', 'famrel', 'freetime', 'goout', 'dalc', 'walc', 'health', 'absences', 'g1', 'g2']"
     ]
    }
   ],
   "source": [
    "inputs"
   ]
  },
  {
   "cell_type": "code",
   "execution_count": 53,
   "metadata": {
    "collapsed": false,
    "scrolled": false
   },
   "outputs": [
    {
     "name": "stdout",
     "output_type": "stream",
     "text": [
      "+--------------------+-----+\n",
      "|            features|label|\n",
      "+--------------------+-----+\n",
      "|[2.0,0.0,0.0,15.0...|    0|\n",
      "|[4.0,0.0,0.0,17.0...|    0|\n",
      "|[5.0,0.0,0.0,15.0...|    0|\n",
      "|[8.0,0.0,0.0,16.0...|    0|\n",
      "|[9.0,0.0,0.0,16.0...|    0|\n",
      "|[10.0,0.0,0.0,16....|    0|\n",
      "|[11.0,0.0,0.0,15....|    0|\n",
      "|[12.0,0.0,0.0,15....|    0|\n",
      "|[14.0,0.0,0.0,16....|    0|\n",
      "|[16.0,0.0,0.0,16....|    0|\n",
      "|[17.0,0.0,0.0,16....|    0|\n",
      "|[18.0,0.0,0.0,16....|    0|\n",
      "|[19.0,0.0,0.0,16....|    0|\n",
      "|[20.0,0.0,0.0,16....|    0|\n",
      "|[22.0,0.0,0.0,16....|    0|\n",
      "|[23.0,0.0,0.0,15....|    0|\n",
      "|[24.0,0.0,0.0,15....|    0|\n",
      "|[25.0,0.0,0.0,15....|    0|\n",
      "|[26.0,0.0,0.0,16....|    0|\n",
      "|[27.0,0.0,0.0,15....|    0|\n",
      "+--------------------+-----+\n",
      "only showing top 20 rows"
     ]
    }
   ],
   "source": [
    "assembler = VectorAssembler(inputCols = inputs, outputCol=\"features\")\n",
    "training = assembler.transform(train).select(col(\"features\"), col(\"BelowMedian\").alias(\"label\"))\n",
    "training.show()"
   ]
  },
  {
   "cell_type": "markdown",
   "metadata": {},
   "source": [
    "### Train a Classification Model\n",
    "Next, you need to train a classification model using the training data. To do this, create an instance of the classification algorithm you want to use and use its **fit** method to train a model based on the training DataFrame. In this exercise, you will use a *Logistic Regression* classification algorithm - though you can use the same technique for any of the classification algorithms supported in the spark.ml API."
   ]
  },
  {
   "cell_type": "code",
   "execution_count": 54,
   "metadata": {
    "collapsed": false,
    "scrolled": false
   },
   "outputs": [
    {
     "name": "stdout",
     "output_type": "stream",
     "text": [
      "Model trained!"
     ]
    }
   ],
   "source": [
    "lr = LogisticRegression(labelCol=\"label\",featuresCol=\"features\",maxIter=10,regParam=0.3)\n",
    "model = lr.fit(training)\n",
    "print \"Model trained!\""
   ]
  },
  {
   "cell_type": "markdown",
   "metadata": {},
   "source": [
    "### Prepare the Testing Data\n",
    "Now that you have a trained model, you can test it using the testing data you reserved previously. First, you need to prepare the testing data in the same way as you did the training data by transforming the feature columns into a vector. This time you'll rename the **BelowMedian** column to **trueLabel**."
   ]
  },
  {
   "cell_type": "code",
   "execution_count": 56,
   "metadata": {
    "collapsed": false
   },
   "outputs": [
    {
     "name": "stdout",
     "output_type": "stream",
     "text": [
      "+--------------------+---------+\n",
      "|            features|trueLabel|\n",
      "+--------------------+---------+\n",
      "|(33,[3,4,7,8,10,1...|        0|\n",
      "|[1.0,0.0,0.0,17.0...|        0|\n",
      "|[3.0,0.0,0.0,16.0...|        0|\n",
      "|[6.0,0.0,0.0,15.0...|        0|\n",
      "|[7.0,0.0,0.0,16.0...|        0|\n",
      "|[13.0,0.0,0.0,15....|        0|\n",
      "|[15.0,0.0,0.0,15....|        0|\n",
      "|[21.0,0.0,0.0,16....|        0|\n",
      "|[30.0,0.0,0.0,16....|        0|\n",
      "|[33.0,0.0,0.0,15....|        0|\n",
      "|[43.0,0.0,0.0,15....|        0|\n",
      "|[45.0,0.0,0.0,16....|        0|\n",
      "|[57.0,0.0,0.0,16....|        0|\n",
      "|[58.0,0.0,0.0,16....|        0|\n",
      "|[60.0,0.0,0.0,16....|        0|\n",
      "|[66.0,0.0,0.0,16....|        0|\n",
      "|[68.0,0.0,0.0,17....|        1|\n",
      "|[70.0,0.0,0.0,16....|        0|\n",
      "|[72.0,0.0,0.0,19....|        0|\n",
      "|[76.0,0.0,0.0,17....|        0|\n",
      "+--------------------+---------+\n",
      "only showing top 20 rows"
     ]
    }
   ],
   "source": [
    "testing = assembler.transform(test).select(col(\"features\"), col(\"BelowMedian\").alias(\"trueLabel\"))\n",
    "testing.show()"
   ]
  },
  {
   "cell_type": "markdown",
   "metadata": {},
   "source": [
    "### Test the Model\n",
    "Now you're ready to use the **transform** method of the model to generate some predictions. You can use this approach to predict the final score category; but in this case you are using the test data which includes a known true label value, so you can compare the predicted status to the actual status. "
   ]
  },
  {
   "cell_type": "code",
   "execution_count": 57,
   "metadata": {
    "collapsed": false,
    "scrolled": false
   },
   "outputs": [
    {
     "name": "stdout",
     "output_type": "stream",
     "text": [
      "+--------------------+----------+--------------------+---------+\n",
      "|            features|prediction|         probability|trueLabel|\n",
      "+--------------------+----------+--------------------+---------+\n",
      "|(33,[3,4,7,8,10,1...|       0.0|[0.63843592166474...|        0|\n",
      "|[1.0,0.0,0.0,17.0...|       0.0|[0.86022864579177...|        0|\n",
      "|[3.0,0.0,0.0,16.0...|       0.0|[0.93660209702692...|        0|\n",
      "|[6.0,0.0,0.0,15.0...|       0.0|[0.94469176957182...|        0|\n",
      "|[7.0,0.0,0.0,16.0...|       0.0|[0.97540671788211...|        0|\n",
      "|[13.0,0.0,0.0,15....|       0.0|[0.93062610852263...|        0|\n",
      "|[15.0,0.0,0.0,15....|       0.0|[0.97530058248934...|        0|\n",
      "|[21.0,0.0,0.0,16....|       0.0|[0.94751440216820...|        0|\n",
      "|[30.0,0.0,0.0,16....|       0.0|[0.95158088118332...|        0|\n",
      "|[33.0,0.0,0.0,15....|       0.0|[0.94171594886607...|        0|\n",
      "|[43.0,0.0,0.0,15....|       0.0|[0.96504810914054...|        0|\n",
      "|[45.0,0.0,0.0,16....|       0.0|[0.82722652680658...|        0|\n",
      "|[57.0,0.0,0.0,16....|       0.0|[0.94170917668167...|        0|\n",
      "|[58.0,0.0,0.0,16....|       0.0|[0.94149015844961...|        0|\n",
      "|[60.0,0.0,0.0,16....|       0.0|[0.96562971305020...|        0|\n",
      "|[66.0,0.0,0.0,16....|       0.0|[0.91339694140178...|        0|\n",
      "|[68.0,0.0,0.0,17....|       0.0|[0.69642278440772...|        1|\n",
      "|[70.0,0.0,0.0,16....|       0.0|[0.97056983627515...|        0|\n",
      "|[72.0,0.0,0.0,19....|       0.0|[0.90919076762724...|        0|\n",
      "|[76.0,0.0,0.0,17....|       0.0|[0.92132924772286...|        0|\n",
      "|[88.0,0.0,0.0,17....|       0.0|[0.89178474930726...|        0|\n",
      "|[90.0,0.0,0.0,18....|       0.0|[0.82529368781399...|        0|\n",
      "|[94.0,0.0,0.0,17....|       0.0|[0.95849816608981...|        0|\n",
      "|[97.0,0.0,0.0,18....|       0.0|[0.96964838365649...|        0|\n",
      "|[104.0,0.0,0.0,18...|       0.0|[0.91035879663280...|        0|\n",
      "|[112.0,0.0,0.0,18...|       0.0|[0.80760827411859...|        0|\n",
      "|[114.0,0.0,0.0,17...|       0.0|[0.92366435132092...|        0|\n",
      "|[121.0,0.0,0.0,19...|       0.0|[0.63176155817248...|        0|\n",
      "|[129.0,0.0,0.0,18...|       0.0|[0.80983966682088...|        0|\n",
      "|[134.0,0.0,0.0,18...|       0.0|[0.88449320388051...|        0|\n",
      "|[138.0,0.0,0.0,17...|       0.0|[0.94251431819499...|        0|\n",
      "|[143.0,0.0,0.0,20...|       0.0|[0.63665367789443...|        0|\n",
      "|[147.0,0.0,0.0,15...|       0.0|[0.94227465107249...|        0|\n",
      "|[149.0,0.0,0.0,15...|       0.0|[0.90504906180606...|        0|\n",
      "|[150.0,0.0,0.0,15...|       0.0|[0.94383076809505...|        0|\n",
      "|[152.0,0.0,0.0,15...|       0.0|[0.91116730987580...|        0|\n",
      "|[165.0,0.0,0.0,18...|       0.0|[0.86243350143371...|        0|\n",
      "|[167.0,0.0,0.0,18...|       0.0|[0.89793156532238...|        0|\n",
      "|[173.0,0.0,0.0,17...|       0.0|[0.96161863805329...|        0|\n",
      "|[179.0,0.0,0.0,15...|       0.0|[0.91550085739841...|        0|\n",
      "|(33,[0,3,6,7,8,10...|       0.0|[0.96292396156757...|        0|\n",
      "|(33,[0,3,6,7,8,9,...|       0.0|[0.77024694414557...|        0|\n",
      "|(33,[0,3,7,8,9,10...|       0.0|[0.87205783256171...|        0|\n",
      "|[202.0,0.0,0.0,18...|       0.0|[0.77019534333739...|        0|\n",
      "|(33,[0,3,6,7,8,10...|       0.0|[0.96451992773615...|        0|\n",
      "|(33,[0,3,6,7,8,10...|       0.0|[0.96533631242673...|        0|\n",
      "|[212.0,0.0,0.0,17...|       0.0|[0.87472954261197...|        0|\n",
      "|[213.0,0.0,0.0,16...|       0.0|[0.93280190538718...|        0|\n",
      "|[214.0,0.0,0.0,17...|       0.0|[0.90554661969961...|        0|\n",
      "|(33,[0,3,7,8,9,10...|       0.0|[0.85790237575962...|        0|\n",
      "|[222.0,0.0,0.0,15...|       0.0|[0.83000062103097...|        1|\n",
      "|[225.0,0.0,0.0,16...|       0.0|[0.91502638959843...|        0|\n",
      "|[229.0,0.0,0.0,19...|       0.0|[0.70772681760821...|        0|\n",
      "|[232.0,0.0,0.0,15...|       0.0|[0.91580280769594...|        0|\n",
      "|[234.0,0.0,0.0,17...|       0.0|[0.74481693913387...|        1|\n",
      "|[236.0,0.0,0.0,18...|       0.0|[0.58205373400533...|        0|\n",
      "|[264.0,0.0,0.0,18...|       0.0|[0.71326960745978...|        1|\n",
      "|[265.0,0.0,0.0,18...|       0.0|[0.71323591731893...|        1|\n",
      "|[275.0,0.0,0.0,17...|       0.0|[0.86689667307976...|        0|\n",
      "|[277.0,0.0,0.0,15...|       0.0|[0.93025028252190...|        0|\n",
      "|[281.0,0.0,0.0,18...|       0.0|[0.77224350190490...|        0|\n",
      "|(33,[0,3,6,7,8,9,...|       0.0|[0.81683684381411...|        0|\n",
      "|[296.0,0.0,0.0,17...|       0.0|[0.98724574595559...|        0|\n",
      "|[299.0,0.0,0.0,17...|       0.0|[0.98150684615441...|        0|\n",
      "|[305.0,0.0,0.0,17...|       0.0|[0.80388604894324...|        1|\n",
      "|[307.0,0.0,0.0,16...|       0.0|[0.87659030822285...|        0|\n",
      "|[313.0,0.0,0.0,16...|       0.0|[0.89585638326241...|        0|\n",
      "|[319.0,0.0,0.0,16...|       0.0|[0.94831794867416...|        0|\n",
      "|[321.0,0.0,0.0,16...|       0.0|[0.93314100982047...|        0|\n",
      "|[322.0,0.0,0.0,17...|       0.0|[0.88886233539063...|        0|\n",
      "|[324.0,0.0,0.0,15...|       0.0|[0.97852624486835...|        0|\n",
      "|[327.0,0.0,0.0,16...|       0.0|[0.93307932129558...|        0|\n",
      "|[330.0,0.0,0.0,16...|       0.0|[0.88246773422177...|        0|\n",
      "|[331.0,0.0,0.0,17...|       0.0|[0.97641954365923...|        0|\n",
      "|[335.0,0.0,0.0,15...|       0.0|[0.97848813741788...|        0|\n",
      "|[340.0,0.0,0.0,15...|       0.0|[0.89281966777911...|        0|\n",
      "|[343.0,0.0,0.0,17...|       0.0|[0.89453490587780...|        0|\n",
      "|[352.0,0.0,0.0,15...|       0.0|[0.89583488089327...|        0|\n",
      "|[353.0,0.0,0.0,17...|       0.0|[0.97608708522164...|        0|\n",
      "|[357.0,0.0,0.0,15...|       0.0|[0.96700559898811...|        0|\n",
      "|[360.0,0.0,0.0,17...|       0.0|[0.98208937453814...|        0|\n",
      "|[365.0,0.0,0.0,15...|       0.0|[0.89281223885505...|        0|\n",
      "|[367.0,0.0,0.0,17...|       0.0|[0.80162920656521...|        1|\n",
      "|[369.0,0.0,0.0,17...|       0.0|[0.88425725353801...|        0|\n",
      "|[370.0,0.0,0.0,17...|       0.0|[0.91541659421338...|        0|\n",
      "|[371.0,0.0,0.0,16...|       0.0|[0.89901238787455...|        0|\n",
      "|[381.0,0.0,0.0,15...|       0.0|[0.95857671826938...|        0|\n",
      "|[392.0,0.0,0.0,17...|       0.0|[0.92965141280039...|        0|\n",
      "|[398.0,0.0,0.0,17...|       0.0|[0.96066977753511...|        0|\n",
      "|[399.0,0.0,0.0,15...|       0.0|[0.89511021292646...|        0|\n",
      "|[401.0,0.0,0.0,17...|       0.0|[0.94439600638334...|        0|\n",
      "|[402.0,0.0,0.0,17...|       0.0|[0.97580274096443...|        0|\n",
      "|[412.0,0.0,0.0,15...|       0.0|[0.90519638787445...|        0|\n",
      "|[427.0,0.0,0.0,15...|       0.0|[0.88767045426257...|        0|\n",
      "|[432.0,0.0,0.0,17...|       0.0|[0.88721868287834...|        0|\n",
      "|[436.0,0.0,0.0,16...|       0.0|[0.90064473054966...|        0|\n",
      "|[446.0,0.0,0.0,15...|       0.0|[0.92773706075244...|        0|\n",
      "|[448.0,0.0,0.0,16...|       0.0|[0.93289785886325...|        0|\n",
      "|[451.0,0.0,0.0,15...|       0.0|[0.92239719979851...|        0|\n",
      "|[463.0,0.0,0.0,18...|       0.0|[0.67424200503533...|        0|\n",
      "+--------------------+----------+--------------------+---------+\n",
      "only showing top 100 rows"
     ]
    }
   ],
   "source": [
    "prediction = model.transform(testing)\n",
    "predicted = prediction.select(\"features\", \"prediction\", \"probability\", \"trueLabel\")\n",
    "predicted.show(100)"
   ]
  },
  {
   "cell_type": "markdown",
   "metadata": {},
   "source": [
    "Looking at the result, the **prediction** column contains the predicted value for the label, and the **trueLabel** column contains the actual known value from the testing data. It looks like there are a mix of correct and incorrect predictions - later in this course you'll learn how to measure the accuracy of a model."
   ]
  },
  {
   "cell_type": "code",
   "execution_count": 82,
   "metadata": {
    "collapsed": false
   },
   "outputs": [],
   "source": [
    "testObs = testing.count()*1.0"
   ]
  },
  {
   "cell_type": "code",
   "execution_count": 70,
   "metadata": {
    "collapsed": false
   },
   "outputs": [],
   "source": [
    "accuratePredictions = prediction.select(\"features\", \"prediction\", \"probability\", \"trueLabel\").filter(\n",
    "    prediction['prediction'] == prediction['trueLabel']).count()"
   ]
  },
  {
   "cell_type": "code",
   "execution_count": 96,
   "metadata": {
    "collapsed": false
   },
   "outputs": [
    {
     "name": "stdout",
     "output_type": "stream",
     "text": [
      "The Accuracy rate over all predictions is 82.004 %"
     ]
    }
   ],
   "source": [
    "print \"The Accuracy rate over all predictions is %.3f %%\" %((accuratePredictions/testObs) *100)"
   ]
  }
 ],
 "metadata": {
  "kernelspec": {
   "display_name": "PySpark",
   "language": "",
   "name": "pysparkkernel"
  },
  "language_info": {
   "codemirror_mode": {
    "name": "python",
    "version": 2
   },
   "mimetype": "text/x-python",
   "name": "pyspark",
   "pygments_lexer": "python2"
  }
 },
 "nbformat": 4,
 "nbformat_minor": 1
}