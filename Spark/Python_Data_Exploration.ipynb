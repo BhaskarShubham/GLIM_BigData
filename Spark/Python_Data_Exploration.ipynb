{
 "cells": [
  {
   "cell_type": "markdown",
   "metadata": {},
   "source": [
    "## Exploring Data with DataFrames and Spark SQL"
   ]
  },
  {
   "cell_type": "code",
   "execution_count": 1,
   "metadata": {
    "collapsed": false
   },
   "outputs": [
    {
     "name": "stdout",
     "output_type": "stream",
     "text": [
      "Starting Spark application\n"
     ]
    },
    {
     "data": {
      "text/html": [
       "<table>\n",
       "<tr><th>ID</th><th>YARN Application ID</th><th>Kind</th><th>State</th><th>Spark UI</th><th>Driver log</th><th>Current session?</th></tr><tr><td>6</td><td>application_1484897226601_0012</td><td>pyspark</td><td>idle</td><td><a target=\"_blank\" href=\"http://hn0-spkcw1.fkjv1puk2baeng2vtavoyu0ixb.bx.internal.cloudapp.net:8088/proxy/application_1484897226601_0012/\">Link</a></td><td><a target=\"_blank\" href=\"http://10.0.0.15:30060/node/containerlogs/container_1484897226601_0012_01_000001/livy\">Link</a></td><td>✔</td></tr></table>"
      ],
      "text/plain": [
       "<IPython.core.display.HTML object>"
      ]
     },
     "metadata": {},
     "output_type": "display_data"
    },
    {
     "name": "stdout",
     "output_type": "stream",
     "text": [
      "SparkSession available as 'spark'.\n"
     ]
    }
   ],
   "source": [
    "from pyspark.sql import SparkSession\n",
    "spark = SparkSession.builder.master(\"yarn\").appName(\"GLIM_PGPBABI\").enableHiveSupport().getOrCreate()"
   ]
  },
  {
   "cell_type": "markdown",
   "metadata": {},
   "source": [
    "### Read data from a Hive Table"
   ]
  },
  {
   "cell_type": "code",
   "execution_count": 2,
   "metadata": {
    "collapsed": false
   },
   "outputs": [],
   "source": [
    "student_df = spark.sql(\"SELECT * FROM studentmaster\")"
   ]
  },
  {
   "cell_type": "markdown",
   "metadata": {},
   "source": [
    "### Use DataFrame Methods\n",
    "Spark DataFrames provide functions that you can use to extract and manipulate data. For example, you can use the **select** function to return a new DataFrame containing columns selected from an existing DataFrame."
   ]
  },
  {
   "cell_type": "code",
   "execution_count": 3,
   "metadata": {
    "collapsed": false
   },
   "outputs": [
    {
     "name": "stdout",
     "output_type": "stream",
     "text": [
      "+------+------+\n",
      "|School|Reason|\n",
      "+------+------+\n",
      "|     0|     0|\n",
      "|     0|     0|\n",
      "|     0|     1|\n",
      "|     0|     1|\n",
      "|     0|     1|\n",
      "|     0|     3|\n",
      "|     0|     3|\n",
      "|     0|     1|\n",
      "|     0|     3|\n",
      "|     0|     3|\n",
      "|     0|     1|\n",
      "|     0|     2|\n",
      "|     0|     2|\n",
      "|     0|     0|\n",
      "|     0|     2|\n",
      "|     0|     3|\n",
      "|     0|     0|\n",
      "|     0|     0|\n",
      "|     0|     1|\n",
      "|     0|     0|\n",
      "+------+------+\n",
      "only showing top 20 rows"
     ]
    }
   ],
   "source": [
    "student_df.select(\"School\", \"Reason\").show()"
   ]
  },
  {
   "cell_type": "code",
   "execution_count": 5,
   "metadata": {
    "collapsed": false
   },
   "outputs": [
    {
     "name": "stdout",
     "output_type": "stream",
     "text": [
      "376"
     ]
    }
   ],
   "source": [
    "student_df.filter(student_df['G3'] >=15).count()"
   ]
  },
  {
   "cell_type": "markdown",
   "metadata": {},
   "source": [
    "### Combine Operations\n",
    "In this case, you will use the **filter** function followed by the **select** and **describe** functions to return the summary statistics for the three exam scores for one of the schools"
   ]
  },
  {
   "cell_type": "code",
   "execution_count": 9,
   "metadata": {
    "collapsed": false
   },
   "outputs": [],
   "source": [
    "summary_stats_by_school = student_df.filter(student_df['School'] == 1).select('G1','G2','G3').describe()"
   ]
  },
  {
   "cell_type": "code",
   "execution_count": 10,
   "metadata": {
    "collapsed": false
   },
   "outputs": [
    {
     "name": "stdout",
     "output_type": "stream",
     "text": [
      "+-------+------------------+------------------+------------------+\n",
      "|summary|                G1|                G2|                G3|\n",
      "+-------+------------------+------------------+------------------+\n",
      "|  count|              1160|              1160|              1160|\n",
      "|   mean|10.000862068965517|10.229310344827587|10.458620689655172|\n",
      "| stddev|2.7076409214911457| 2.938102233645812| 3.450377152748175|\n",
      "|    min|                 4|                 0|                 0|\n",
      "|    max|                19|                18|                19|\n",
      "+-------+------------------+------------------+------------------+"
     ]
    }
   ],
   "source": [
    "summary_stats_by_school.show()"
   ]
  },
  {
   "cell_type": "markdown",
   "metadata": {},
   "source": [
    "### Count the Rows in a DataFrame\n",
    "Now that you're familiar with working with DataFrames, a key task when building predictive solutions is to explore the data, determing statistics that will help you understand the data before building predictive models. For example, how many rows of flight data do you actually have?"
   ]
  },
  {
   "cell_type": "code",
   "execution_count": 11,
   "metadata": {
    "collapsed": false
   },
   "outputs": [
    {
     "name": "stdout",
     "output_type": "stream",
     "text": [
      "2320"
     ]
    }
   ],
   "source": [
    "student_df.count()"
   ]
  },
  {
   "cell_type": "markdown",
   "metadata": {},
   "source": [
    "### Determine Summary Statistics\n",
    "Predictive modeling is based on statistics and probability, so you will often start by looking at summary statistics. The **describe** function returns a DataFrame containing the **count**, **mean**, **standard deviation**, **minimum**, and **maximum** values for each numeric column."
   ]
  },
  {
   "cell_type": "code",
   "execution_count": 19,
   "metadata": {
    "collapsed": false
   },
   "outputs": [
    {
     "name": "stdout",
     "output_type": "stream",
     "text": [
      "+-------+------------------+------------------+------------------+\n",
      "|summary|                G1|                G2|                G3|\n",
      "+-------+------------------+------------------+------------------+\n",
      "|  count|              2320|              2320|              2320|\n",
      "|   mean|10.795689655172414|10.950431034482758|11.306034482758621|\n",
      "| stddev| 2.691333486659969| 2.813852535705715|3.1378227577428275|\n",
      "|    min|                 0|                 0|                 0|\n",
      "|    max|                19|                19|                19|\n",
      "+-------+------------------+------------------+------------------+"
     ]
    }
   ],
   "source": [
    "student_df.select('G1','G2','G3').describe().show()"
   ]
  },
  {
   "cell_type": "markdown",
   "metadata": {},
   "source": [
    "### Determine the Presence of Duplicates\n",
    "The data you have to work with won't always be perfect - often you'll want to *clean* the data; for example to detect and remove duplicates that might affect your model. You can use the **dropDuplicates** function to create a new DataFrame with the duplicates removed, enabling you to determine how many rows are duplicates of other rows."
   ]
  },
  {
   "cell_type": "code",
   "execution_count": 14,
   "metadata": {
    "collapsed": false
   },
   "outputs": [
    {
     "name": "stdout",
     "output_type": "stream",
     "text": [
      "0"
     ]
    }
   ],
   "source": [
    "student_df.count() - student_df.dropDuplicates().count()"
   ]
  },
  {
   "cell_type": "markdown",
   "metadata": {},
   "source": [
    "### Identify Missing Values\n",
    "As well as determing if duplicates exist in your data, you should detect missing values, and either remove rows containing missing data or replace the missing values with a suitable relacement. The **dropna** function creates a DataFrame with any rows containing missing data removed - you can specify a subset of columns, and whether the row should be removed in *any* or *all* values are missing. You can then use this new DataFrame to determine how many rows contain missing values."
   ]
  },
  {
   "cell_type": "code",
   "execution_count": 15,
   "metadata": {
    "collapsed": false
   },
   "outputs": [
    {
     "name": "stdout",
     "output_type": "stream",
     "text": [
      "0"
     ]
    }
   ],
   "source": [
    "student_df.count() - student_df.dropDuplicates().dropna(how=\"any\", subset=['G1','G2','G3']).count()"
   ]
  },
  {
   "cell_type": "markdown",
   "metadata": {},
   "source": [
    "### Clean the Data\n",
    "If there are duplicates and missing values, you can clean the data by removing the duplicates and replacing the missing values. The **fillna** function replaces missing values with a specified replacement value. In this case, you'll remove all duplicate rows and replace missing **G1**, **G2** and **G3** values with **0**."
   ]
  },
  {
   "cell_type": "raw",
   "metadata": {
    "collapsed": false
   },
   "source": [
    "data=student_df.dropDuplicates().fillna(value=0, subset=['G1','G2','G3'])\n",
    "data.count()"
   ]
  },
  {
   "cell_type": "markdown",
   "metadata": {},
   "source": [
    "### Explore Relationships in the Data\n",
    "Predictive modeling is largely based on statistical relationships between fields in the data. To design a good model, you need to understand how the data points relate to one another and identify any apparent correlation. The **corr** function calculates a correlation value between -1 and 1, indicating the strength of correlation between two fields. A strong positive correlation (near 1) indicates that high values for one column are often found with high values for the other, which a string negative correlation (near -1) indicates that *low* values for one column are often found with *high* values for the other. A correlation near 0 indicates little apparent relationship between the fields."
   ]
  },
  {
   "cell_type": "code",
   "execution_count": 21,
   "metadata": {
    "collapsed": false,
    "scrolled": true
   },
   "outputs": [
    {
     "name": "stdout",
     "output_type": "stream",
     "text": [
      "0.9244887496213747"
     ]
    }
   ],
   "source": [
    "student_df.corr(\"g2\", \"g3\")"
   ]
  },
  {
   "cell_type": "markdown",
   "metadata": {},
   "source": [
    "### Use Spark SQL\n",
    "In addition to using the DataFrame API directly to query data, you can persist DataFrames as table and use Spark SQL to query them using the SQL language. SQL is often more intuitive to use when querying tabular data structures."
   ]
  },
  {
   "cell_type": "code",
   "execution_count": 22,
   "metadata": {
    "collapsed": true
   },
   "outputs": [],
   "source": [
    "student_df.createOrReplaceTempView(\"student_view\")"
   ]
  },
  {
   "cell_type": "code",
   "execution_count": 23,
   "metadata": {
    "collapsed": false
   },
   "outputs": [
    {
     "name": "stdout",
     "output_type": "stream",
     "text": [
      "+------+-----------+------------------+\n",
      "|School|NumStudents|          AvgScore|\n",
      "+------+-----------+------------------+\n",
      "|     0|       1160|12.153448275862068|\n",
      "|     1|       1160|10.458620689655172|\n",
      "+------+-----------+------------------+"
     ]
    }
   ],
   "source": [
    "spark.sql(\"SELECT School, COUNT(g3) AS NumStudents, AVG(g3) AS AvgScore FROM student_view GROUP BY School ORDER BY School\").show()"
   ]
  },
  {
   "cell_type": "markdown",
   "metadata": {},
   "source": [
    "### Use the Inline SQL *Magic*\n",
    "Jupyter Notebooks support *magics*, which enable you to include inline code and functionality. For example, the **%%sql** magic enables you to write SQL queries and visualize the results directly in the notebook.\n",
    "\n",
    "Run the following query, and view the table of results that is returned."
   ]
  },
  {
   "cell_type": "code",
   "execution_count": 26,
   "metadata": {
    "collapsed": false
   },
   "outputs": [],
   "source": [
    "%%sql\n",
    "SELECT g2, g3 FROM student_view"
   ]
  },
  {
   "cell_type": "markdown",
   "metadata": {},
   "source": [
    "Change the **Table** visualization of results above to a **Scatter** visualization to see the relationship between the **G2** and **G3** values more clearly (use the **-** function to plot the actual values) - visualizations like this make it easier to show relationships as apparent *structure* in the data. For example, the positive correlation between **G2** and **G3** seems to be a linear relationsip, creaing a diagonal line of plotted points."
   ]
  },
  {
   "cell_type": "markdown",
   "metadata": {},
   "source": [
    "### Query Multiple Tables\n",
    "You can create and query multiple temporary tables. Run the cells below to create a temporary table from the **airports** DataFrame, and then use an inline query to query it together with the flights data."
   ]
  },
  {
   "cell_type": "code",
   "execution_count": 27,
   "metadata": {
    "collapsed": false
   },
   "outputs": [],
   "source": [
    "school_df = spark.sql(\"SELECT * FROM school\")\n",
    "reason_df = spark.sql(\"SELECT * FROM reason\")"
   ]
  },
  {
   "cell_type": "code",
   "execution_count": 34,
   "metadata": {
    "collapsed": true
   },
   "outputs": [],
   "source": [
    "school_df.createOrReplaceTempView(\"school_view\")\n",
    "reason_df.createOrReplaceTempView(\"reason_view\")"
   ]
  },
  {
   "cell_type": "code",
   "execution_count": 39,
   "metadata": {
    "collapsed": false
   },
   "outputs": [],
   "source": [
    "%%sql\n",
    "SELECT b.Category AS JoiningReason, AVG(a.g3) AS AvgScore\n",
    "FROM student_view AS a JOIN reason_view AS b\n",
    "ON a.Reason = b.LabelID\n",
    "GROUP BY b.Category\n",
    "ORDER BY AVG(a.G3) DESC"
   ]
  },
  {
   "cell_type": "markdown",
   "metadata": {},
   "source": [
    "As you saw previously, it can sometimes be useful to visualize the results of a query. Change the visualization above to a **Bar** chart, using the **-** function, to see the average scores achieved by students based on the reasons for joining."
   ]
  },
  {
   "cell_type": "code",
   "execution_count": 41,
   "metadata": {
    "collapsed": false
   },
   "outputs": [],
   "source": [
    "%%sql\n",
    "SELECT b.Category AS SchoolName, c.Category AS JoiningReason, AVG(a.G3) AS AvgScore\n",
    "FROM student_view AS a JOIN school_view AS b\n",
    "ON a.School = b.LabelID JOIN reason_view AS c\n",
    "ON a.Reason = c.LabelID\n",
    "GROUP BY b.Category, c.Category\n",
    "ORDER BY b.Category, AVG(a.G3) DESC"
   ]
  }
 ],
 "metadata": {
  "kernelspec": {
   "display_name": "PySpark",
   "language": "",
   "name": "pysparkkernel"
  },
  "language_info": {
   "codemirror_mode": {
    "name": "python",
    "version": 2
   },
   "mimetype": "text/x-python",
   "name": "pyspark",
   "pygments_lexer": "python2"
  },
  "widgets": {
   "state": {
    "236e776d3e1b45d6b2522d290b0c52bf": {
     "views": [
      {
       "cell_index": 31
      }
     ]
    },
    "2c12ade2863845b683ab7a70727672b2": {
     "views": [
      {
       "cell_index": 31
      }
     ]
    },
    "33997d571fdb43ebb5f1b28eb846ff91": {
     "views": [
      {
       "cell_index": 26
      }
     ]
    },
    "4a2635991de84d8dbb6bf3b21f9d1fc7": {
     "views": [
      {
       "cell_index": 26
      }
     ]
    },
    "58ed130133694cf89e4518d1c8b45fd9": {
     "views": [
      {
       "cell_index": 31
      }
     ]
    },
    "66e9907a503f4e38ae34bb37375d3de8": {
     "views": [
      {
       "cell_index": 33
      }
     ]
    },
    "a4b26b309a8c4d568f7f2b60b53c5bf7": {
     "views": [
      {
       "cell_index": 33
      }
     ]
    },
    "aad2283a7fba45958018acf26c6cde92": {
     "views": [
      {
       "cell_index": 31
      }
     ]
    },
    "adaa4355f7b241ba9c3726bca8cc720b": {
     "views": [
      {
       "cell_index": 31
      }
     ]
    },
    "c81eba46bcdf4063ad34b7cd21f46443": {
     "views": [
      {
       "cell_index": 31
      }
     ]
    },
    "dc5ae922d6ce4176ad55ac5a49577255": {
     "views": [
      {
       "cell_index": 33
      }
     ]
    },
    "fa4c21737d374f61ad900f3343a7b9f3": {
     "views": [
      {
       "cell_index": 31
      }
     ]
    }
   },
   "version": "1.2.0"
  }
 },
 "nbformat": 4,
 "nbformat_minor": 1
}